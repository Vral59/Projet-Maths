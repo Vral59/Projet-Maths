{
 "cells": [
  {
   "cell_type": "markdown",
   "id": "bcc83a49",
   "metadata": {},
   "source": [
    "# Code du projet"
   ]
  },
  {
   "cell_type": "code",
   "execution_count": 1,
   "id": "8d47c1c9",
   "metadata": {},
   "outputs": [],
   "source": [
    "# Importations\n",
    "\n",
    "import random\n",
    "import numpy as np\n",
    "import math\n",
    "import matplotlib.pyplot as plt\n",
    "import scipy.stats as stats\n",
    "import copy"
   ]
  },
  {
   "cell_type": "markdown",
   "id": "80471738",
   "metadata": {},
   "source": [
    "### Question 3"
   ]
  },
  {
   "cell_type": "code",
   "execution_count": 2,
   "id": "a305f1fc",
   "metadata": {},
   "outputs": [],
   "source": [
    "def trianglePascal(n):\n",
    "    T = [[0] * (n+1) for p in range(n+1)]\n",
    "    for n in range(n+1):\n",
    "        if n == 0:\n",
    "            T[n][0] = 1\n",
    "        else:\n",
    "            for k in range(n+1):\n",
    "                if k == 0:\n",
    "                    T[n][0] = 1\n",
    "                else:\n",
    "                    T[n][k] = T[n-1][k-1] + T[n-1][k]\n",
    "    return T\n",
    "\n",
    "\n",
    "\n",
    "def pricer_1(N,rN,hN,bN,s,f):\n",
    "    qN = (rN-bN)/(hN-bN)\n",
    "    T = trianglePascal(N)\n",
    "    somme = 0\n",
    "    for k in range(0,N+1):\n",
    "        binome = T[N][k]\n",
    "        nouveauF = f(s*((1+hN)**k)*((1+bN)**(N-k)))\n",
    "        somme += nouveauF*binome*(qN**k)*((1-qN)**(N-k))\n",
    "    return (1/((1+rN)**N))*somme"
   ]
  },
  {
   "cell_type": "markdown",
   "id": "2bbabcb8",
   "metadata": {},
   "source": [
    "### Question 4"
   ]
  },
  {
   "cell_type": "code",
   "execution_count": 3,
   "id": "b4139d6f",
   "metadata": {},
   "outputs": [
    {
     "name": "stdout",
     "output_type": "stream",
     "text": [
      "Prix :  26.61694136025856\n"
     ]
    }
   ],
   "source": [
    "def f1(x):\n",
    "    return max(x - 110,0)\n",
    "\n",
    "pricer = pricer_1(20,0.02,0.05,-0.05,100,f1)\n",
    "\n",
    "print(\"Prix : \",pricer)"
   ]
  },
  {
   "cell_type": "markdown",
   "id": "9fdea078",
   "metadata": {},
   "source": [
    "### Question 5"
   ]
  },
  {
   "cell_type": "code",
   "execution_count": 4,
   "id": "4eda6ac3",
   "metadata": {},
   "outputs": [],
   "source": [
    "def pricer_2(N,rN,hN,bN,s,f):\n",
    "    qN = (rN-bN)/(hN-bN)\n",
    "    # Initialisation des f(x) à la fin de l'arbre\n",
    "    tree = [[f(s*((1+bN)**k)*((1+hN)**(N-k))) for k in range(0,N+1)]]\n",
    "    for n in range(N,0,-1):\n",
    "        aux = []\n",
    "        for i in range(0,n):\n",
    "            fup = tree[-1][i]\n",
    "            fdown = tree[-1][i+1]\n",
    "            vn = (1/(1+rN))*(qN*fup+(1-qN)*fdown)\n",
    "            aux.append(vn)\n",
    "        tree.append(aux)\n",
    "    return tree"
   ]
  },
  {
   "cell_type": "markdown",
   "id": "0c314291",
   "metadata": {},
   "source": [
    "### Question 6"
   ]
  },
  {
   "cell_type": "code",
   "execution_count": 5,
   "id": "153f2d56",
   "metadata": {},
   "outputs": [
    {
     "name": "stdout",
     "output_type": "stream",
     "text": [
      "Prix :  7.063436197239379\n",
      "Voici l'arbre : [[15.762500000000017, 4.737499999999997, 0, 0], [12.210784313725503, 3.251225490196077, 0.0], [9.336192810457526, 2.2312331795463276], [7.063436197239379]]\n"
     ]
    }
   ],
   "source": [
    "def f2(x):\n",
    "    return max(x - 100,0)\n",
    "\n",
    "arbre = pricer_2(3,0.02,0.05,-0.05,100,f2)\n",
    "print(\"Prix : \", arbre[-1][0])\n",
    "print(\"Voici l'arbre :\",arbre)"
   ]
  },
  {
   "cell_type": "markdown",
   "id": "5344f979",
   "metadata": {},
   "source": [
    "### Question 7"
   ]
  },
  {
   "cell_type": "code",
   "execution_count": 6,
   "id": "caf7e007",
   "metadata": {},
   "outputs": [
    {
     "name": "stdout",
     "output_type": "stream",
     "text": [
      "On a N =  15\n",
      "pricer 1 avec N random : 10.381973548376116\n",
      "pricer 2 avec N random : 10.381973548376118\n"
     ]
    }
   ],
   "source": [
    "randomN = random.randint(5, 15)\n",
    "s = 100\n",
    "rN = 0.01\n",
    "hN = 0.05\n",
    "bN = -0.05\n",
    "\n",
    "tree = pricer_2(randomN,rN,hN,bN,s,f1)\n",
    "\n",
    "pricerRandom1 = pricer_1(randomN,rN,hN,bN,s,f1) \n",
    "pricerRandom2 = tree[-1][0]\n",
    "\n",
    "print(\"On a N = \",randomN)\n",
    "print(\"pricer 1 avec N random :\", pricerRandom1)\n",
    "print(\"pricer 2 avec N random :\", pricerRandom2)"
   ]
  },
  {
   "cell_type": "markdown",
   "id": "25a6ca63",
   "metadata": {},
   "source": [
    "### Question 10"
   ]
  },
  {
   "cell_type": "code",
   "execution_count": 7,
   "id": "4570b4db",
   "metadata": {},
   "outputs": [],
   "source": [
    "def beta(x,hN,bN,vku,vkd,rN,k):\n",
    "    num = vkd*(1+hN)-vku*(1+bN)\n",
    "    den = (hN-bN)*((1+rN)**k)\n",
    "    return num/den\n",
    "\n",
    "def alpha(x,hN,bN,vku,vkd,rN,k):\n",
    "    num = vku-beta(x,hN,bN,vku,vkd,rN,k)*((1+rN)**k)\n",
    "    den = x*(1+hN)\n",
    "    return num/den"
   ]
  },
  {
   "cell_type": "code",
   "execution_count": 8,
   "id": "89bdc114",
   "metadata": {},
   "outputs": [],
   "source": [
    "def couverture(N,s,rN,hN,bN,f):\n",
    "    tabVk = pricer_2(N, rN, hN, bN, s, f)\n",
    "    tabVk.reverse()\n",
    "    a = alpha(s,hN,bN,tabVk[1][0],tabVk[1][1],rN,1)\n",
    "    b = beta(s,hN,bN,tabVk[1][0],tabVk[1][1],rN,1)\n",
    "    tree = [[(s,a,b)]]\n",
    "    for i in range(1,N):\n",
    "        aux = []\n",
    "        for j in range(len(tree[-1])):\n",
    "            x,aa,bb = tree[-1][j]\n",
    "            vku1 = tabVk[i+1][j]\n",
    "            vkd1 = tabVk[i+1][j+1]\n",
    "            vku2 = tabVk[i+1][j+1]\n",
    "            vkd2 = tabVk[i+1][j+2]\n",
    "            xup = x*(1+hN)\n",
    "            xdown = x*(1+bN)\n",
    "            aup = alpha(xup,hN,bN,vku1,vkd1,rN,i+1)\n",
    "            bup = beta(xup,hN,bN,vku1,vkd1,rN,i+1)\n",
    "            adown = alpha(xdown,hN,bN,vku2,vkd2,rN,i+1)\n",
    "            bdown = beta(xdown,hN,bN,vku2,vkd2,rN,i+1)\n",
    "            aux.append((xup,aup,bup))\n",
    "            aux.append((xdown,adown,bdown))\n",
    "        tree.append(aux)\n",
    "    return tree"
   ]
  },
  {
   "cell_type": "code",
   "execution_count": 9,
   "id": "633d810d",
   "metadata": {},
   "outputs": [
    {
     "name": "stdout",
     "output_type": "stream",
     "text": [
      "[[(100, 0.7961165048543688, -73.42822132151944)], [(105.0, 0.976190476190476, -91.78527665189932), (95.0, 0.0, 0.0)]]\n"
     ]
    }
   ],
   "source": [
    "def f(x):\n",
    "    return max(x-100,0)\n",
    "\n",
    "arbre = couverture(2, 100, 0.03, 0.05, -0.05, f)\n",
    "print(arbre)\n",
    "#Resultat sous la forme d'une liste de (x,alpha,beta) "
   ]
  },
  {
   "cell_type": "markdown",
   "id": "39460e89",
   "metadata": {},
   "source": [
    "### Question 12"
   ]
  },
  {
   "cell_type": "code",
   "execution_count": 10,
   "id": "cdbf5464",
   "metadata": {},
   "outputs": [],
   "source": [
    "def pricer_MC(n,s,r,sigma,T,f):\n",
    "    normale = stats.norm.rvs(0,1,n)\n",
    "    somme = 0\n",
    "    c1 = (r-((sigma**2)/2))*T\n",
    "    c2 = math.exp(-r*T)\n",
    "    for i in range(n):\n",
    "        Bi = math.sqrt(T)*normale[i]\n",
    "        somme += c2*f(s*math.exp(c1+sigma*Bi))\n",
    "    return somme/n"
   ]
  },
  {
   "cell_type": "code",
   "execution_count": 11,
   "id": "0cd37bd7",
   "metadata": {},
   "outputs": [
    {
     "data": {
      "image/png": "[encoded data removed]",
      "text/plain": [
       "<Figure size 432x288 with 1 Axes>"
      ]
     },
     "metadata": {
      "needs_background": "light"
     },
     "output_type": "display_data"
    }
   ],
   "source": [
    "listeK = [i for i in range(1,10)]\n",
    "listePrix = [pricer_MC(el*(10**5),100,0.01,0.1,1,f) for el in listeK]\n",
    "plt.plot(listeK, listePrix, 'ro')\n",
    "plt.show()"
   ]
  },
  {
   "cell_type": "markdown",
   "id": "bcfe699a",
   "metadata": {},
   "source": [
    "### Question 15"
   ]
  },
  {
   "cell_type": "code",
   "execution_count": 12,
   "id": "d1275ff9",
   "metadata": {},
   "outputs": [],
   "source": [
    "def put_BS(s,r,sig,T,K):\n",
    "    d1 = (1/(sig*math.sqrt(T)))*(math.log(s/K)+(r+(sig**2)/2)*T)\n",
    "    d2 =  d1 - sig*math.sqrt(T)\n",
    "    F1 = stats.norm.cdf(-d1,0,1)\n",
    "    F2 = stats.norm.cdf(-d2,0,1)\n",
    "    return -s*F1+K*math.exp(-r*T)*F2"
   ]
  },
  {
   "cell_type": "markdown",
   "id": "01e3071d",
   "metadata": {},
   "source": [
    "### Question 16"
   ]
  },
  {
   "cell_type": "code",
   "execution_count": 13,
   "id": "eb7585f7",
   "metadata": {},
   "outputs": [
    {
     "name": "stdout",
     "output_type": "stream",
     "text": [
      "0.5815000751362422\n"
     ]
    }
   ],
   "source": [
    "print(put_BS(100, 0.01, 0.1, 1, 90))"
   ]
  },
  {
   "cell_type": "markdown",
   "id": "9eea1684",
   "metadata": {},
   "source": [
    "### Question 17"
   ]
  },
  {
   "cell_type": "code",
   "execution_count": 14,
   "id": "2ab95722",
   "metadata": {},
   "outputs": [
    {
     "data": {
      "image/png": "[encoded data removed]",
      "text/plain": [
       "<Figure size 432x288 with 1 Axes>"
      ]
     },
     "metadata": {
      "needs_background": "light"
     },
     "output_type": "display_data"
    }
   ],
   "source": [
    "listeAbs = [k*(10**5) for k in range(1,11)]\n",
    "\n",
    "def f(x):\n",
    "    return max(90-x,0)\n",
    "\n",
    "listeOrd = [pricer_MC(el,100,0.01,0.1,1,f) for el in listeAbs]\n",
    "\n",
    "plt.plot(listeAbs,listeOrd,'ro')\n",
    "plt.axhline(y=put_BS(100,0.01,0.1,1,90))\n",
    "plt.show()"
   ]
  },
  {
   "cell_type": "markdown",
   "id": "47f9de67",
   "metadata": {},
   "source": [
    "### Question 18"
   ]
  },
  {
   "cell_type": "code",
   "execution_count": 15,
   "id": "e886fb79",
   "metadata": {},
   "outputs": [
    {
     "data": {
      "image/png": "[encoded data removed]",
      "text/plain": [
       "<Figure size 432x288 with 1 Axes>"
      ]
     },
     "metadata": {
      "needs_background": "light"
     },
     "output_type": "display_data"
    }
   ],
   "source": [
    "fig = plt.figure()\n",
    "ax = fig.add_subplot(111, projection='3d')\n",
    "\n",
    "T = [1/12,1/6,1/4,1/3,1/2,1]\n",
    "s = [20*k for k in range(1,11)]\n",
    "\n",
    "for si in s:\n",
    "    for Ti in T:\n",
    "        ax.scatter(si, Ti, put_BS(si,0.01,0.1,Ti,100))\n",
    "\n",
    "ax.set_xlabel('s')\n",
    "ax.set_ylabel('T')\n",
    "ax.set_zlabel('Put')\n",
    "#Ligne a décommenter pour changer les points de vues :\n",
    "#ax.view_init(elev=0., azim=0)\n",
    "#ax.view_init(elev=0., azim=90)\n",
    "plt.show()"
   ]
  },
  {
   "cell_type": "markdown",
   "id": "76c19569",
   "metadata": {},
   "source": [
    "### Question 19"
   ]
  },
  {
   "cell_type": "code",
   "execution_count": 16,
   "id": "f6cdb8ae",
   "metadata": {},
   "outputs": [
    {
     "data": {
      "image/png": "[encoded data removed]",
      "text/plain": [
       "<Figure size 432x288 with 1 Axes>"
      ]
     },
     "metadata": {
      "needs_background": "light"
     },
     "output_type": "display_data"
    }
   ],
   "source": [
    "def fst(st):\n",
    "    return max(100-st,0)\n",
    "\n",
    "def listeP2(fst,s,sig,r,T):\n",
    "    res = []\n",
    "    for k in range(1,101):\n",
    "        N = 10*k\n",
    "        rN = (r*T)/N\n",
    "        hN = (1+rN)*math.exp(sig*math.sqrt(T/N))-1\n",
    "        bN = (1+rN)*math.exp(-sig*math.sqrt(T/N))-1\n",
    "        res.append(pricer_2(N,rN,hN,bN,s,fst)[-1][0])\n",
    "    return res\n",
    "\n",
    "listeN = [10*k for k in range(1,101)]\n",
    "listePricer2 = listeP2(fst,100,0.2,0.03,1)\n",
    "\n",
    "plt.plot(listeN, listePricer2, 'ro')\n",
    "plt.axhline(y=put_BS(100,0.03,0.2,1,100))\n",
    "plt.show()"
   ]
  },
  {
   "cell_type": "markdown",
   "id": "96f36c2b",
   "metadata": {},
   "source": [
    "### Question 20"
   ]
  },
  {
   "cell_type": "markdown",
   "id": "3eb707b0",
   "metadata": {},
   "source": [
    "##### Euler Explicite"
   ]
  },
  {
   "cell_type": "code",
   "execution_count": 17,
   "id": "f84766d1",
   "metadata": {},
   "outputs": [],
   "source": [
    "def euler_exp(K,r,sig,T,x_min,x_max,N,M):\n",
    "    delta_t = T/M\n",
    "    liste_t = [m*delta_t for m in range(0,M+1)]\n",
    "    h = (x_max - x_min)/N\n",
    "    liste_x = [x_min+j*h for j in range(0,N+1)]\n",
    "    matrice_res = [[0 for _ in range(N+1)] for _ in range(M+1)]\n",
    "    for i in range(N+1):\n",
    "        matrice_res[0][i] = max(K - math.exp(liste_x[i]),0)\n",
    "    for i in range(M+1):\n",
    "        matrice_res[i][0] = K*math.exp(-r*liste_t[i])-math.exp(x_min)\n",
    "    \n",
    "    for i in range(1,M+1):\n",
    "        for j in range(1,N):\n",
    "            matrice_res[i][j] = matrice_res[i-1][j] \\\n",
    "            +delta_t*0.5*(sig**2)*(1/(h**2))*(matrice_res[i-1][j+1] \\\n",
    "            -2*matrice_res[i-1][j]+matrice_res[i-1][j-1]) \\\n",
    "            +delta_t*(r-(sig**2)/2)*(1/(2*h))*(matrice_res[i-1][j+1] \\\n",
    "            -matrice_res[i-1][j-1])-delta_t*r*matrice_res[i-1][j]\n",
    "    return matrice_res[-1]"
   ]
  },
  {
   "cell_type": "code",
   "execution_count": 18,
   "id": "c92d980b",
   "metadata": {},
   "outputs": [
    {
     "data": {
      "image/png": "[encoded data removed]",
      "text/plain": [
       "<Figure size 432x288 with 1 Axes>"
      ]
     },
     "metadata": {
      "needs_background": "light"
     },
     "output_type": "display_data"
    }
   ],
   "source": [
    "listeP = euler_exp(0.9,0.015,0.21,1,math.log(0.4),math.log(2),100,200)\n",
    "\n",
    "x_max = math.log(2)\n",
    "x_min = math.log(0.4)\n",
    "N = 100\n",
    "h = (x_max - x_min)/N\n",
    "liste_x = [x_min+j*h for j in range(0,N+1)]\n",
    "plt.plot(liste_x, listeP, 'ro')\n",
    "plt.show()"
   ]
  },
  {
   "cell_type": "markdown",
   "id": "a2287e81",
   "metadata": {},
   "source": [
    "##### Euleur Implicite "
   ]
  },
  {
   "cell_type": "code",
   "execution_count": 19,
   "id": "5a98e29a",
   "metadata": {},
   "outputs": [],
   "source": [
    "def euler_imp(K,r,sig,T,x_min,x_max,N,M):\n",
    "    delta_t = T/M\n",
    "    liste_t = [m*delta_t for m in range(0,M+1)]\n",
    "    h = (x_max - x_min)/N\n",
    "    liste_x = [x_min+j*h for j in range(0,N+1)]\n",
    "    Pm = [ max(K - math.exp(liste_x[i]),0) for i in range(0,N+1)]\n",
    "    a = - (delta_t * (sig**2))/(2*(h**2)) + ((delta_t)*r)/(2*h) - (delta_t*(sig)**2)/(4*h)\n",
    "    b = r*delta_t + delta_t*(sig**2)*(1/(h**2)) + 1\n",
    "    c = - (delta_t/2) * (sig/h)**2 - (delta_t *r)/(2*h) + (delta_t*(sig)**2)/(4*h)\n",
    "    A = [[0 for _ in range(N+1)] for _ in range(N+1)]\n",
    "    for j in range(1,N):\n",
    "        A[j][j-1] = a\n",
    "        A[j][j] = b\n",
    "        A[j][j+1] = c\n",
    "    # 1er ligne et dernière useless mais la matrice doit être inversible\n",
    "    A[N][N] = 1\n",
    "\n",
    "    for j in range(1,M+1):\n",
    "        # On calcule les nouveaux Pm M fois\n",
    "        A[0][0] = (K*np.exp(-r*liste_t[j-1])-np.exp(x_min))/(K*np.exp(-r*liste_t[j])-np.exp(x_min))\n",
    "        Pm = np.linalg.solve(A,Pm)\n",
    "        Pm[0] = K*math.exp(-r*liste_t[j])-math.exp(x_min)\n",
    "        Pm[-1] = 0\n",
    "    return Pm"
   ]
  },
  {
   "cell_type": "code",
   "execution_count": 20,
   "id": "3502dda9",
   "metadata": {},
   "outputs": [
    {
     "data": {
      "image/png": "[encoded data removed]",
      "text/plain": [
       "<Figure size 432x288 with 1 Axes>"
      ]
     },
     "metadata": {
      "needs_background": "light"
     },
     "output_type": "display_data"
    }
   ],
   "source": [
    "listeP = euler_imp(0.9,0.015,0.21,1,math.log(0.4),math.log(2),100,200)\n",
    "\n",
    "x_max = math.log(2)\n",
    "x_min = math.log(0.4)\n",
    "N = 100\n",
    "h = (x_max - x_min)/N\n",
    "liste_x = [x_min+j*h for j in range(0,N+1)]\n",
    "plt.plot(liste_x, listeP, 'ro')\n",
    "plt.show()\n"
   ]
  },
  {
   "cell_type": "markdown",
   "id": "5c063f2f",
   "metadata": {},
   "source": [
    "###### Crank-Nicholson"
   ]
  },
  {
   "cell_type": "code",
   "execution_count": 21,
   "id": "f7d41394",
   "metadata": {},
   "outputs": [],
   "source": [
    "def CosM(K,r,sig,T,x_min,x_max,N,M):     \n",
    "    delta_t = T/M\n",
    "    liste_t = [m*delta_t for m in range(0,M+1)]\n",
    "    h = (x_max - x_min)/N\n",
    "    liste_x = [x_min+j*h for j in range(0,N+1)]\n",
    "    Pm = np.array([ max(K - math.exp(liste_x[i]),0) for i in range(0,N+1)])\n",
    "    a = (sig**2)/(4*(h**2))-(r-(sig**2)/2)*(1/(4*h))\n",
    "    b = (1/delta_t)-(sig**2)/(2*h**2)-r\n",
    "    c = (sig**2)/(4*h**2)+(r-(sig**2)/2)*(1/(4*h))\n",
    "    ap = -(sig**2)/(4*h**2)+(r-(sig**2)/2)*(1/(4*h))\n",
    "    bp = (1/delta_t)+(sig**2)/(2*h**2)\n",
    "    cp = -(sig**2)/(4*h**2)-(r-(sig**2)/2)*(1/(4*h))\n",
    "    AP = np.array([[0 for _ in range(N+1)] for _ in range(N+1)])\n",
    "    for j in range(1,N):\n",
    "        AP[j][j-1] = ap\n",
    "        AP[j][j] = bp\n",
    "        AP[j][j+1] = cp\n",
    "    AP[N][N] = 1\n",
    "    AP[0][0] = 1\n",
    "    for j in range(1,M+1):\n",
    "        nPm = copy.deepcopy(Pm)\n",
    "        nPm[0] = K*math.exp(-r*liste_t[j])-math.exp(x_min)\n",
    "        nPm[-1] = 0\n",
    "        for i in range(1,N):\n",
    "            nPm[i] = a*Pm[i-1]+b*Pm[i]+c*Pm[i+1]\n",
    "        Pm = np.linalg.solve(AP,nPm)\n",
    "        Pm[0] = K*math.exp(-r*liste_t[j])-math.exp(x_min)\n",
    "        Pm[-1] = 0\n",
    "    return Pm "
   ]
  },
  {
   "cell_type": "code",
   "execution_count": 22,
   "id": "4e81febb",
   "metadata": {},
   "outputs": [
    {
     "data": {
      "image/png": "[encoded data removed]",
      "text/plain": [
       "<Figure size 432x288 with 1 Axes>"
      ]
     },
     "metadata": {
      "needs_background": "light"
     },
     "output_type": "display_data"
    }
   ],
   "source": [
    "listeP = CosM(0.9,0.015,0.21,1,math.log(0.4),math.log(2),100,200)\n",
    "\n",
    "x_max = math.log(2)\n",
    "x_min = math.log(0.4)\n",
    "N = 100\n",
    "h = (x_max - x_min)/N\n",
    "liste_x = [x_min+j*h for j in range(0,N+1)]\n",
    "plt.plot(liste_x, listeP, 'ro')\n",
    "plt.show()"
   ]
  }
 ],
 "metadata": {
  "kernelspec": {
   "display_name": "Python 3 (ipykernel)",
   "language": "python",
   "name": "python3"
  },
  "language_info": {
   "codemirror_mode": {
    "name": "ipython",
    "version": 3
   },
   "file_extension": ".py",
   "mimetype": "text/x-python",
   "name": "python",
   "nbconvert_exporter": "python",
   "pygments_lexer": "ipython3",
   "version": "3.9.7"
  }
 },
 "nbformat": 4,
 "nbformat_minor": 5
}
