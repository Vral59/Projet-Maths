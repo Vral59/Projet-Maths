{
 "cells": [
  {
   "cell_type": "markdown",
   "id": "bcc83a49",
   "metadata": {},
   "source": [
    "# Code du projet"
   ]
  },
  {
   "cell_type": "markdown",
   "id": "80471738",
   "metadata": {},
   "source": [
    "### Question 3"
   ]
  },
  {
   "cell_type": "code",
   "execution_count": 1,
   "id": "a305f1fc",
   "metadata": {},
   "outputs": [],
   "source": [
    "def trianglePascal(n):\n",
    "    T = [[0] * (n+1) for p in range(n+1)]\n",
    "    for n in range(n+1):\n",
    "        if n == 0:\n",
    "            T[n][0] = 1\n",
    "        else:\n",
    "            for k in range(n+1):\n",
    "                if k == 0:\n",
    "                    T[n][0] = 1\n",
    "                else:\n",
    "                    T[n][k] = T[n-1][k-1] + T[n-1][k]\n",
    "    return T\n",
    "\n",
    "\n",
    "\n",
    "def pricer_1(N,rN,hN,bN,s,f):\n",
    "    qN = (rN-bN)/(hN-bN)\n",
    "    T = trianglePascal(N)\n",
    "    somme = 0\n",
    "    for k in range(0,N+1):\n",
    "        binome = T[N][k]\n",
    "        nouveauF = f(s*((1+hN)**k)*((1+bN)**(N-k)))\n",
    "        somme += nouveauF*binome*(qN**k)*((1-qN)**(N-k))\n",
    "    return (1/((1+rN)**N))*somme"
   ]
  },
  {
   "cell_type": "markdown",
   "id": "2bbabcb8",
   "metadata": {},
   "source": [
    "### Question 4"
   ]
  },
  {
   "cell_type": "code",
   "execution_count": 2,
   "id": "b4139d6f",
   "metadata": {},
   "outputs": [
    {
     "name": "stdout",
     "output_type": "stream",
     "text": [
      "Prix :  26.61694136025856\n"
     ]
    }
   ],
   "source": [
    "def f1(x):\n",
    "    return max(x - 110,0)\n",
    "\n",
    "pricer = pricer_1(20,0.02,0.05,-0.05,100,f1)\n",
    "\n",
    "print(\"Prix : \",pricer)"
   ]
  },
  {
   "cell_type": "markdown",
   "id": "9fdea078",
   "metadata": {},
   "source": [
    "### Question 5"
   ]
  },
  {
   "cell_type": "code",
   "execution_count": 4,
   "id": "4eda6ac3",
   "metadata": {},
   "outputs": [],
   "source": [
    "def pricer_2(N,rN,hN,bN,s,f):\n",
    "    qN = (rN-bN)/(hN-bN)\n",
    "    # Initialisation des f(x) à la fin de l'arbre\n",
    "    tree = [[f(s*((1+bN)**k)*((1+hN)**(N-k))) for k in range(0,N+1)]]\n",
    "    for n in range(N,0,-1):\n",
    "        aux = []\n",
    "        for i in range(0,n):\n",
    "            fup = tree[-1][i]\n",
    "            fdown = tree[-1][i+1]\n",
    "            vn = (1/(1+rN))*(qN*fup+(1-qN)*fdown)\n",
    "            aux.append(vn)\n",
    "        tree.append(aux)\n",
    "    return tree"
   ]
  },
  {
   "cell_type": "markdown",
   "id": "0c314291",
   "metadata": {},
   "source": [
    "### Question 6"
   ]
  },
  {
   "cell_type": "code",
   "execution_count": 4,
   "id": "153f2d56",
   "metadata": {},
   "outputs": [
    {
     "name": "stdout",
     "output_type": "stream",
     "text": [
      "Prix :  7.063436197239379\n",
      "Voici l'arbre : [[15.762500000000017, 4.737499999999997, 0, 0], [12.210784313725503, 3.251225490196077, 0.0], [9.336192810457526, 2.2312331795463276], [7.063436197239379]]\n"
     ]
    }
   ],
   "source": [
    "def f2(x):\n",
    "    return max(x - 100,0)\n",
    "\n",
    "arbre = pricer_2(3,0.02,0.05,-0.05,100,f2)\n",
    "print(\"Prix : \", arbre[-1][0])\n",
    "print(\"Voici l'arbre :\",arbre)"
   ]
  },
  {
   "cell_type": "markdown",
   "id": "5344f979",
   "metadata": {},
   "source": [
    "### Question 7"
   ]
  },
  {
   "cell_type": "code",
   "execution_count": 6,
   "id": "caf7e007",
   "metadata": {},
   "outputs": [
    {
     "name": "stdout",
     "output_type": "stream",
     "text": [
      "On a N =  15\n",
      "pricer 1 avec N random : 10.381973548376116\n",
      "pricer 2 avec N random : 10.381973548376118\n"
     ]
    }
   ],
   "source": [
    "import random\n",
    "\n",
    "randomN = random.randint(5, 15)\n",
    "s = 100\n",
    "rN = 0.01\n",
    "hN = 0.05\n",
    "bN = -0.05\n",
    "\n",
    "tree = pricer_2(randomN,rN,hN,bN,s,f1)\n",
    "\n",
    "pricerRandom1 = pricer_1(randomN,rN,hN,bN,s,f1) \n",
    "pricerRandom2 = tree[-1][0]\n",
    "\n",
    "print(\"On a N = \",randomN)\n",
    "print(\"pricer 1 avec N random :\", pricerRandom1)\n",
    "print(\"pricer 2 avec N random :\", pricerRandom2)"
   ]
  },
  {
   "cell_type": "markdown",
   "id": "25a6ca63",
   "metadata": {},
   "source": [
    "### Question 10"
   ]
  },
  {
   "cell_type": "code",
   "execution_count": 1,
   "id": "4570b4db",
   "metadata": {},
   "outputs": [],
   "source": [
    "def beta(x,hN,bN,vku,vkd,rN,k):\n",
    "    num = vkd*(1+hN)-vku*(1+bN)\n",
    "    den = (hN-bN)*((1+rN)**k)\n",
    "    return num/den\n",
    "\n",
    "def alpha(x,hN,bN,vku,vkd,rN,k):\n",
    "    num = vku-beta(x,hN,bN,vku,vkd,rN,k)*((1+rN)**k)\n",
    "    den = x*(1+hN)\n",
    "    return num/den"
   ]
  },
  {
   "cell_type": "code",
   "execution_count": 6,
   "id": "89bdc114",
   "metadata": {},
   "outputs": [],
   "source": [
    "def couverture(N,s,rN,hN,bN,f):\n",
    "    tabVk = pricer_2(N, rN, hN, bN, s, f)\n",
    "    tabVk.reverse()\n",
    "    a = alpha(s,hN,bN,tabVk[1][0],tabVk[1][1],rN,1)\n",
    "    b = beta(s,hN,bN,tabVk[1][0],tabVk[1][1],rN,1)\n",
    "    tree = [[(s,a,b)]]\n",
    "    for i in range(1,N):\n",
    "        aux = []\n",
    "        for j in range(len(tree[-1])):\n",
    "            x,aa,bb = tree[-1][j]\n",
    "            vku1 = tabVk[i+1][j]\n",
    "            vkd1 = tabVk[i+1][j+1]\n",
    "            vku2 = tabVk[i+1][j+1]\n",
    "            vkd2 = tabVk[i+1][j+2]\n",
    "            xup = x*(1+hN)\n",
    "            xdown = x*(1+bN)\n",
    "            aup = alpha(xup,hN,bN,vku1,vkd1,rN,i+1)\n",
    "            bup = beta(xup,hN,bN,vku1,vkd1,rN,i+1)\n",
    "            adown = alpha(xdown,hN,bN,vku2,vkd2,rN,i+1)\n",
    "            bdown = beta(xdown,hN,bN,vku2,vkd2,rN,i+1)\n",
    "            aux.append((xup,aup,bup))\n",
    "            aux.append((xdown,adown,bdown))\n",
    "        tree.append(aux)\n",
    "    return tree"
   ]
  },
  {
   "cell_type": "code",
   "execution_count": 8,
   "id": "633d810d",
   "metadata": {},
   "outputs": [
    {
     "name": "stdout",
     "output_type": "stream",
     "text": [
      "[[(100, 0.7961165048543688, -73.42822132151944)], [(105.0, 0.976190476190476, -91.78527665189932), (95.0, 0.0, 0.0)]]\n"
     ]
    }
   ],
   "source": [
    "def f(x):\n",
    "    return max(x-100,0)\n",
    "\n",
    "arbre = couverture(2, 100, 0.03, 0.05, -0.05, f)\n",
    "print(arbre)"
   ]
  }
 ],
 "metadata": {
  "kernelspec": {
   "display_name": "Python 3 (ipykernel)",
   "language": "python",
   "name": "python3"
  },
  "language_info": {
   "codemirror_mode": {
    "name": "ipython",
    "version": 3
   },
   "file_extension": ".py",
   "mimetype": "text/x-python",
   "name": "python",
   "nbconvert_exporter": "python",
   "pygments_lexer": "ipython3",
   "version": "3.9.7"
  }
 },
 "nbformat": 4,
 "nbformat_minor": 5
}
